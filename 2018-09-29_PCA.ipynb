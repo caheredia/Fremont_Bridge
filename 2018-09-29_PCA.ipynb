{
 "cells": [
  {
   "cell_type": "code",
   "execution_count": 1,
   "metadata": {},
   "outputs": [],
   "source": [
    "import pandas as pd \n",
    "import numpy as np \n",
    "import random as rd \n",
    "from sklearn.decomposition import PCA\n",
    "from sklearn import preprocessing \n",
    "import matplotlib.pyplot as plt \n",
    "%matplotlib inline"
   ]
  },
  {
   "cell_type": "code",
   "execution_count": 2,
   "metadata": {},
   "outputs": [
    {
     "name": "stdout",
     "output_type": "stream",
     "text": [
      "CPU times: user 73.6 ms, sys: 2.33 ms, total: 75.9 ms\n",
      "Wall time: 74.8 ms\n"
     ]
    }
   ],
   "source": [
    "%%time\n",
    "# generate array of 100 gene names\n",
    "genes = ['gene' + str(num) for num in range(1, 101)]\n",
    "\n",
    "# array of sample names\n",
    "wt = ['wt' + str(num) for num in range(1, 6)]\n",
    "ko = ['ko' + str(num) for num in range(1, 6)]\n",
    "\n",
    "# build empty dataframe \n",
    "data = pd.DataFrame(columns=[*wt, *ko], index=genes)\n",
    "\n",
    "# populate dataframe\n",
    "for gene in data.index:\n",
    "    data.loc[gene, 'wt1':'wt5'] = np.random.poisson(lam=rd.randrange(10, 10000), size=5)\n",
    "    data.loc[gene, 'ko1':'ko5'] = np.random.poisson(lam=rd.randrange(10, 10000), size=5)\n",
    "\n",
    "data.head()"
   ]
  },
  {
   "cell_type": "code",
   "execution_count": 3,
   "metadata": {},
   "outputs": [],
   "source": [
    "# need to center and scale the data \n",
    "# the data also needs to be transposed. The columns or varibales become the rows for PCA loading scores\n",
    "scaled_data = preprocessing.scale(data.T)"
   ]
  },
  {
   "cell_type": "code",
   "execution_count": 4,
   "metadata": {},
   "outputs": [],
   "source": [
    "# create PCA object\n",
    "pca= PCA()"
   ]
  },
  {
   "cell_type": "code",
   "execution_count": 5,
   "metadata": {},
   "outputs": [
    {
     "data": {
      "text/plain": [
       "PCA(copy=True, iterated_power='auto', n_components=None, random_state=None,\n",
       "  svd_solver='auto', tol=0.0, whiten=False)"
      ]
     },
     "execution_count": 5,
     "metadata": {},
     "output_type": "execute_result"
    }
   ],
   "source": [
    "# calculate loading scores and variation each principle compenent acount for \n",
    "pca.fit(scaled_data)"
   ]
  },
  {
   "cell_type": "code",
   "execution_count": 6,
   "metadata": {
    "collapsed": true
   },
   "outputs": [],
   "source": [
    "# generate coordinates based on loading scores and scaled data\n",
    "pca_data = pca.transform(scaled_data)"
   ]
  },
  {
   "cell_type": "code",
   "execution_count": 7,
   "metadata": {},
   "outputs": [],
   "source": [
    "# scree plot\n",
    "# generate percentage that each PCA accounts for\n",
    "per_var = np.round(pca.explained_variance_ratio_*100, decimals=1)\n",
    "# generate labels for scree plot\n",
    "labels = ['PC' + str(num) for num in range(1, len(per_var) + 1)]"
   ]
  },
  {
   "cell_type": "code",
   "execution_count": 8,
   "metadata": {},
   "outputs": [
    {
     "data": {
      "image/png": "[encoded data removed]",
      "text/plain": [
       "<matplotlib.figure.Figure at 0x116e00898>"
      ]
     },
     "metadata": {},
     "output_type": "display_data"
    }
   ],
   "source": [
    "plt.bar(left=range(1, len(per_var) + 1), height = per_var, tick_label=labels)\n",
    "plt.show()"
   ]
  },
  {
   "cell_type": "code",
   "execution_count": 9,
   "metadata": {},
   "outputs": [
    {
     "data": {
      "text/html": [
       "<div>\n",
       "<style scoped>\n",
       "    .dataframe tbody tr th:only-of-type {\n",
       "        vertical-align: middle;\n",
       "    }\n",
       "\n",
       "    .dataframe tbody tr th {\n",
       "        vertical-align: top;\n",
       "    }\n",
       "\n",
       "    .dataframe thead th {\n",
       "        text-align: right;\n",
       "    }\n",
       "</style>\n",
       "<table border=\"1\" class=\"dataframe\">\n",
       "  <thead>\n",
       "    <tr style=\"text-align: right;\">\n",
       "      <th></th>\n",
       "      <th>PC1</th>\n",
       "      <th>PC2</th>\n",
       "      <th>PC3</th>\n",
       "      <th>PC4</th>\n",
       "      <th>PC5</th>\n",
       "      <th>PC6</th>\n",
       "      <th>PC7</th>\n",
       "      <th>PC8</th>\n",
       "      <th>PC9</th>\n",
       "      <th>PC10</th>\n",
       "    </tr>\n",
       "  </thead>\n",
       "  <tbody>\n",
       "    <tr>\n",
       "      <th>wt1</th>\n",
       "      <td>9.740670</td>\n",
       "      <td>-0.621390</td>\n",
       "      <td>-1.119775</td>\n",
       "      <td>-0.088301</td>\n",
       "      <td>-0.251540</td>\n",
       "      <td>1.059870</td>\n",
       "      <td>-0.085858</td>\n",
       "      <td>-0.175621</td>\n",
       "      <td>-0.075863</td>\n",
       "      <td>-1.755540e-15</td>\n",
       "    </tr>\n",
       "    <tr>\n",
       "      <th>wt2</th>\n",
       "      <td>9.748656</td>\n",
       "      <td>-1.561225</td>\n",
       "      <td>-0.117439</td>\n",
       "      <td>0.004804</td>\n",
       "      <td>-0.580250</td>\n",
       "      <td>-0.165888</td>\n",
       "      <td>0.184504</td>\n",
       "      <td>0.464000</td>\n",
       "      <td>0.135958</td>\n",
       "      <td>-9.159340e-16</td>\n",
       "    </tr>\n",
       "    <tr>\n",
       "      <th>wt3</th>\n",
       "      <td>9.656490</td>\n",
       "      <td>1.375793</td>\n",
       "      <td>0.998885</td>\n",
       "      <td>-1.277307</td>\n",
       "      <td>-0.696087</td>\n",
       "      <td>-0.362539</td>\n",
       "      <td>-0.497328</td>\n",
       "      <td>-0.145341</td>\n",
       "      <td>0.017934</td>\n",
       "      <td>3.053113e-16</td>\n",
       "    </tr>\n",
       "    <tr>\n",
       "      <th>wt4</th>\n",
       "      <td>9.966254</td>\n",
       "      <td>-1.253398</td>\n",
       "      <td>1.209591</td>\n",
       "      <td>0.326376</td>\n",
       "      <td>0.547111</td>\n",
       "      <td>-0.332803</td>\n",
       "      <td>0.585451</td>\n",
       "      <td>-0.263631</td>\n",
       "      <td>-0.113308</td>\n",
       "      <td>-1.533496e-15</td>\n",
       "    </tr>\n",
       "    <tr>\n",
       "      <th>wt5</th>\n",
       "      <td>9.748483</td>\n",
       "      <td>2.095636</td>\n",
       "      <td>-1.002521</td>\n",
       "      <td>1.035861</td>\n",
       "      <td>0.955033</td>\n",
       "      <td>-0.203041</td>\n",
       "      <td>-0.189243</td>\n",
       "      <td>0.121290</td>\n",
       "      <td>0.033295</td>\n",
       "      <td>1.720846e-15</td>\n",
       "    </tr>\n",
       "  </tbody>\n",
       "</table>\n",
       "</div>"
      ],
      "text/plain": [
       "          PC1       PC2       PC3       PC4       PC5       PC6       PC7  \\\n",
       "wt1  9.740670 -0.621390 -1.119775 -0.088301 -0.251540  1.059870 -0.085858   \n",
       "wt2  9.748656 -1.561225 -0.117439  0.004804 -0.580250 -0.165888  0.184504   \n",
       "wt3  9.656490  1.375793  0.998885 -1.277307 -0.696087 -0.362539 -0.497328   \n",
       "wt4  9.966254 -1.253398  1.209591  0.326376  0.547111 -0.332803  0.585451   \n",
       "wt5  9.748483  2.095636 -1.002521  1.035861  0.955033 -0.203041 -0.189243   \n",
       "\n",
       "          PC8       PC9          PC10  \n",
       "wt1 -0.175621 -0.075863 -1.755540e-15  \n",
       "wt2  0.464000  0.135958 -9.159340e-16  \n",
       "wt3 -0.145341  0.017934  3.053113e-16  \n",
       "wt4 -0.263631 -0.113308 -1.533496e-15  \n",
       "wt5  0.121290  0.033295  1.720846e-15  "
      ]
     },
     "execution_count": 9,
     "metadata": {},
     "output_type": "execute_result"
    }
   ],
   "source": [
    "# generate df with pca coordinates, variables are presented as rows, thus the index should be variable names, the columns represent the different PCA axis \n",
    "pca_df = pd.DataFrame(pca_data, index = [*wt, *ko], columns=labels)\n",
    "pca_df.head()"
   ]
  },
  {
   "cell_type": "code",
   "execution_count": 10,
   "metadata": {},
   "outputs": [
    {
     "data": {
      "image/png": "[encoded data removed]",
      "text/plain": [
       "<matplotlib.figure.Figure at 0x119071d68>"
      ]
     },
     "metadata": {},
     "output_type": "display_data"
    }
   ],
   "source": [
    "# plot pc1 versus pc2\n",
    "pca_df.plot(kind='scatter', x='PC1', y='PC2')\n",
    "plt.xlabel('PC1 - {}%'.format(per_var[0]))\n",
    "plt.ylabel('PC2 - {}%'.format(per_var[1]))\n",
    "\n",
    "# plot labels\n",
    "for sample in pca_df.index:\n",
    "    plt.annotate(sample, (pca_df['PC1'][sample]+.2,  pca_df['PC2'][sample]))"
   ]
  },
  {
   "cell_type": "code",
   "execution_count": 12,
   "metadata": {},
   "outputs": [
    {
     "data": {
      "text/html": [
       "<div>\n",
       "<style scoped>\n",
       "    .dataframe tbody tr th:only-of-type {\n",
       "        vertical-align: middle;\n",
       "    }\n",
       "\n",
       "    .dataframe tbody tr th {\n",
       "        vertical-align: top;\n",
       "    }\n",
       "\n",
       "    .dataframe thead th {\n",
       "        text-align: right;\n",
       "    }\n",
       "</style>\n",
       "<table border=\"1\" class=\"dataframe\">\n",
       "  <thead>\n",
       "    <tr style=\"text-align: right;\">\n",
       "      <th></th>\n",
       "      <th>0</th>\n",
       "    </tr>\n",
       "  </thead>\n",
       "  <tbody>\n",
       "    <tr>\n",
       "      <th>gene1</th>\n",
       "      <td>0.102306</td>\n",
       "    </tr>\n",
       "    <tr>\n",
       "      <th>gene6</th>\n",
       "      <td>0.102307</td>\n",
       "    </tr>\n",
       "    <tr>\n",
       "      <th>gene11</th>\n",
       "      <td>0.102305</td>\n",
       "    </tr>\n",
       "    <tr>\n",
       "      <th>gene15</th>\n",
       "      <td>0.102314</td>\n",
       "    </tr>\n",
       "    <tr>\n",
       "      <th>gene21</th>\n",
       "      <td>-0.102314</td>\n",
       "    </tr>\n",
       "    <tr>\n",
       "      <th>gene49</th>\n",
       "      <td>-0.102307</td>\n",
       "    </tr>\n",
       "    <tr>\n",
       "      <th>gene50</th>\n",
       "      <td>0.102306</td>\n",
       "    </tr>\n",
       "    <tr>\n",
       "      <th>gene56</th>\n",
       "      <td>0.102312</td>\n",
       "    </tr>\n",
       "    <tr>\n",
       "      <th>gene63</th>\n",
       "      <td>0.102311</td>\n",
       "    </tr>\n",
       "    <tr>\n",
       "      <th>gene99</th>\n",
       "      <td>-0.102320</td>\n",
       "    </tr>\n",
       "  </tbody>\n",
       "</table>\n",
       "</div>"
      ],
      "text/plain": [
       "               0\n",
       "gene1   0.102306\n",
       "gene6   0.102307\n",
       "gene11  0.102305\n",
       "gene15  0.102314\n",
       "gene21 -0.102314\n",
       "gene49 -0.102307\n",
       "gene50  0.102306\n",
       "gene56  0.102312\n",
       "gene63  0.102311\n",
       "gene99 -0.102320"
      ]
     },
     "execution_count": 12,
     "metadata": {},
     "output_type": "execute_result"
    }
   ],
   "source": [
    "# let's look at the loading score for PC1 to see which ones had the largest influence on separating the two clusters along the x axis\n",
    "# series object from loading scores in PC1\n",
    "# top 10 by absolute value, capturing index \n",
    "loading_scores = pd.DataFrame(pca.components_[0], index = genes)\n",
    "sorted_loading_scores = loading_scores.abs().sort_values( by = [0],ascending=False)\n",
    "top_ten_genes = sorted_loading_scores[0:10].index.values\n",
    "loading_scores[loading_scores.index.isin(top_ten_genes)]"
   ]
  },
  {
   "cell_type": "code",
   "execution_count": null,
   "metadata": {},
   "outputs": [],
   "source": []
  },
  {
   "cell_type": "code",
   "execution_count": null,
   "metadata": {
    "collapsed": true
   },
   "outputs": [],
   "source": []
  },
  {
   "cell_type": "code",
   "execution_count": null,
   "metadata": {
    "collapsed": true
   },
   "outputs": [],
   "source": []
  }
 ],
 "metadata": {
  "kernelspec": {
   "display_name": "Python 3",
   "language": "python",
   "name": "python3"
  },
  "language_info": {
   "codemirror_mode": {
    "name": "ipython",
    "version": 3
   },
   "file_extension": ".py",
   "mimetype": "text/x-python",
   "name": "python",
   "nbconvert_exporter": "python",
   "pygments_lexer": "ipython3",
   "version": "3.6.3"
  },
  "toc": {
   "nav_menu": {},
   "number_sections": true,
   "sideBar": true,
   "skip_h1_title": false,
   "toc_cell": false,
   "toc_position": {},
   "toc_section_display": "block",
   "toc_window_display": false
  }
 },
 "nbformat": 4,
 "nbformat_minor": 2
}
